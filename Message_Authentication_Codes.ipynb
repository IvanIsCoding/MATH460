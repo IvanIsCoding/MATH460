{
 "cells": [
  {
   "cell_type": "markdown",
   "metadata": {},
   "source": [
    "# Message Authentication Codes"
   ]
  },
  {
   "cell_type": "markdown",
   "metadata": {},
   "source": [
    "# Introduction\n",
    "\n",
    "Message Authentication Codes (MACs) are used to address two main information security objectives:\n",
    "\n",
    "- **Authentication**. \n",
    "    - Is the message received by Bob really from Alice?\n",
    "- **Data Intgerity** \n",
    "    - Has the received message been altered during transmission?\n",
    "\n",
    "To verify these, Alice sends an appendix $MAC$ to along with the message $m$ as $(m, MAC)$.\n",
    "\n",
    "There are different kinds of MACs but a specific kind of MAC we will be focusing on is the Hashed MAC (HMAC) which is defined as \n",
    "\n",
    "$HMAC(m,K) = H((K \\oplus opad) \\Vert H((K \\oplus ipad)\\Vert m))$ where \n",
    "- opad and ipad are paddings, \n",
    "- $K$ is the key, and \n",
    "- $H$ is a hash function.\n",
    "\n",
    "\n"
   ]
  },
  {
   "cell_type": "markdown",
   "metadata": {},
   "source": [
    "## References\n",
    "\n",
    "- "
   ]
  },
  {
   "cell_type": "markdown",
   "metadata": {},
   "source": []
  }
 ],
 "metadata": {
  "kernelspec": {
   "display_name": "Python 3",
   "language": "python",
   "name": "python3"
  },
  "language_info": {
   "codemirror_mode": {
    "name": "ipython",
    "version": 3
   },
   "file_extension": ".py",
   "mimetype": "text/x-python",
   "name": "python",
   "nbconvert_exporter": "python",
   "pygments_lexer": "ipython3",
   "version": "3.9.7"
  }
 },
 "nbformat": 4,
 "nbformat_minor": 4
}
