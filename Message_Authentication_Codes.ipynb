{
 "cells": [
  {
   "cell_type": "markdown",
   "metadata": {},
   "source": [
    "# Message Authentication Codes"
   ]
  },
  {
   "cell_type": "markdown",
   "metadata": {},
   "source": [
    "## Introduction\n",
    "\n",
    "Message Authentication Codes (MACs) are used to address two main information security objectives:\n",
    "\n",
    "- **Authentication**. \n",
    "    - Is the message received by Bob really from Alice?\n",
    "- **Data Intgerity** \n",
    "    - Has the received message been altered during transmission?\n",
    "\n",
    "To verify these, Alice sends an appendix $MAC$ to along with the message $m$ as $(m, MAC)$.\n",
    "\n",
    "MACs provide an alternative to using encryption for ensuring message integrity in cases where confidentiality is not a main concern (an encrypted message can be manipulated to cause predictable changes in the plaintext if the message structure is known). Using MACs also reduces the overhead associated with encryption and decryption.\n",
    "\n",
    "There are different kinds of MACs but a specific kind of MAC we will be focusing on is the Hashed MAC (HMAC) which is defined as \n",
    "\n",
    "$HMAC(m,K) = H((K \\oplus opad) \\Vert H((K \\oplus ipad)\\Vert m))$ where \n",
    "- opad and ipad are paddings, \n",
    "- $K$ is the key, and \n",
    "- $H$ is a hash function.\n",
    "\n",
    "\n"
   ]
  },
  {
   "cell_type": "markdown",
   "metadata": {},
   "source": [
    "## HMAC\n",
    "\n",
    "(will maybe have to rephrase/change some things later since this is just paraphrasing the textbook)\n",
    "\n",
    "The Hashed MAC (HMAC) was invented in 1996 by Mihir Bellare, Ran Canetti, and Hugo Krawczyk.\n",
    "\n",
    "As the name indicates, a cryptographic hash function $H$ is used along with a secret symmetric key $K$ of length $512$ bits in general. $0$s are appended to shorter keys and longer keys can be hashed to obtain a shorter one.\n",
    "\n",
    "Binary strings of length $512$ expressed in hexadecimal are used as inner- and outer- paddings:\n",
    "\n",
    "> $opad = 5CCC\\dots5C$, $ipad = 363636\\dots36$\n",
    "\n",
    "\n",
    "\n",
    "Nowadays, HMACs are one of the most commonly used MACs on the internet and can be found in the IPSec and TLS protocols for secure and authenticated communication over a network. \n",
    "\n",
    "\n",
    "\n"
   ]
  },
  {
   "cell_type": "markdown",
   "metadata": {},
   "source": [
    "### References\n",
    "\n",
    "- Add textbook reference here."
   ]
  },
  {
   "cell_type": "markdown",
   "metadata": {},
   "source": []
  }
 ],
 "metadata": {
  "kernelspec": {
   "display_name": "Python 3",
   "language": "python",
   "name": "python3"
  },
  "language_info": {
   "codemirror_mode": {
    "name": "ipython",
    "version": 3
   },
   "file_extension": ".py",
   "mimetype": "text/x-python",
   "name": "python",
   "nbconvert_exporter": "python",
   "pygments_lexer": "ipython3",
   "version": "3.9.7"
  }
 },
 "nbformat": 4,
 "nbformat_minor": 4
}
