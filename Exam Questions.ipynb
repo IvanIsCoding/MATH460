{
 "cells": [
  {
   "cell_type": "markdown",
   "metadata": {},
   "source": [
    "# Message Authentication Codes Exam Questions\n",
    "\n",
    "\n",
    "## Question 1\n",
    "\n",
    "Alice and Bob exchange messages constantly over the internet. Bob would like to verify if the messages come from Alice, but wants to keep their high throughput. Which method would be the most appropriate for Bob to choose on the long run, Message Authentication Codes (MACs) or Digital Signatures? Why?\n",
    "\n",
    "\n",
    "## Question 2\n",
    "\n",
    "Given the following definiton of HMAC, explain why simply using $H((K \\oplus ipad)\\Vert m))$ is not enough to guarantee the authenticity of a message.\n",
    "\n",
    "## Question 3\n",
    "\n",
    "Explain what replay attacks are. Can MACs be used to protect against these? Why or why not?\n",
    "\n",
    "## Question 4\n",
    "\n",
    "Unlike HMACs, CBC-MACs use a block cipher $E_K()$ in CBC mode instead of hash functions.  This block cipher is applied to the entire message $m$ and the final output of the CBC operation is used as a MAC.\n",
    "\n",
    "Let the message $m = (m_1, m_2, \\dots, m_l)$, where each $m_j$ is a block of the same block length as the one used in $E_K()$. (The last block may require padding.) \n",
    "\n",
    "Let $C_0 = IV$ be the initialisation vector. We then compute\n",
    "\n",
    "> $C_j = E_K(m_j \\oplus C_{j-1})$\n",
    "\n",
    "where $j=1,2,\\dots,l$.\n",
    "\n",
    "The CBC-MAC tag is then given as $MAC = (IV, C_l)$.\n",
    "\n",
    "Like HMACs, CBC-MACs are also vulnerable to a form of length extension attack. \n",
    "\n",
    "Suppose $MAC(a)$ is the CBC-MAC of a message $a$.  If Eve manages to find a message $b$ such that $MAC(a)  = MAC(b)$, then they can conclude that $MAC(a,x) = MAC(b,x)$ for an additional block $x$ which can be chosen by Eve. How can Eve use this fact to create a forged document which appears valid?"
   ]
  }
 ],
 "metadata": {
  "language_info": {
   "name": "python"
  },
  "orig_nbformat": 4
 },
 "nbformat": 4,
 "nbformat_minor": 2
}
